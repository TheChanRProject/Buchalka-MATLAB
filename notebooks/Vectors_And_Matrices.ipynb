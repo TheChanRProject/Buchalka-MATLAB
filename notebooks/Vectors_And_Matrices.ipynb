{
 "cells": [
  {
   "cell_type": "code",
   "execution_count": 2,
   "metadata": {},
   "outputs": [],
   "source": [
    "addpath '/Users/rchatter/Desktop/DS/MATLAB/Buchalka-MATLAB/mFiles'"
   ]
  },
  {
   "cell_type": "code",
   "execution_count": 4,
   "metadata": {},
   "outputs": [
    {
     "name": "stdout",
     "output_type": "stream",
     "text": [
      "/Users/rchatter/Desktop/DS/MATLAB/Buchalka-MATLAB/mFiles/vectorsAndmatrices.m\n"
     ]
    }
   ],
   "source": [
    "which vectorsAndmatrices"
   ]
  },
  {
   "cell_type": "code",
   "execution_count": 14,
   "metadata": {},
   "outputs": [
    {
     "name": "stdout",
     "output_type": "stream",
     "text": [
      "  Name      Size            Bytes  Class     Attributes\n",
      "\n",
      "  vect      1x9                72  double              \n",
      "\n"
     ]
    }
   ],
   "source": [
    "run vectorsAndmatrices "
   ]
  },
  {
   "cell_type": "markdown",
   "metadata": {},
   "source": [
    "Making a row vector using square brackets  "
   ]
  },
  {
   "cell_type": "code",
   "execution_count": 12,
   "metadata": {},
   "outputs": [
    {
     "name": "stdout",
     "output_type": "stream",
     "text": [
      "  Name      Size            Bytes  Class     Attributes\n",
      "\n",
      "  vect      1x9                72  double              \n",
      "\n"
     ]
    }
   ],
   "source": [
    "vect = [ 1 2 3 4 2 3 1 0 -999 ];\n",
    "\n",
    "whos vect"
   ]
  },
  {
   "cell_type": "markdown",
   "metadata": {},
   "source": [
    "Making a column vector using semicolons "
   ]
  },
  {
   "cell_type": "code",
   "execution_count": 16,
   "metadata": {},
   "outputs": [
    {
     "name": "stdout",
     "output_type": "stream",
     "text": [
      "  Name       Size            Bytes  Class     Attributes\n",
      "\n",
      "  vect2      5x1                40  double              \n",
      "\n"
     ]
    }
   ],
   "source": [
    "vect2 = [ 2; 4; 6; 1; 0 ]; \n",
    "\n",
    "whos vect2 "
   ]
  },
  {
   "cell_type": "markdown",
   "metadata": {},
   "source": [
    "Making a column vector by transposing a row vector "
   ]
  },
  {
   "cell_type": "code",
   "execution_count": 17,
   "metadata": {},
   "outputs": [
    {
     "name": "stdout",
     "output_type": "stream",
     "text": [
      "\n",
      "vectT =\n",
      "\n",
      "     1     2     3     4     5     6     7     8    23\n",
      "\n",
      "     1\n",
      "     2\n",
      "     3\n",
      "     4\n",
      "     5\n",
      "     6\n",
      "\n"
     ]
    }
   ],
   "source": [
    "vectT = [ 1 2 3 4 5 6 7 8 23 ]\n",
    "\n",
    "vectt = transpose( [1 2 3 4 5 6 ] ); \n",
    "\n",
    "disp(vectt) "
   ]
  },
  {
   "cell_type": "markdown",
   "metadata": {},
   "source": [
    "Creating a 2x2 matrix "
   ]
  },
  {
   "cell_type": "code",
   "execution_count": 20,
   "metadata": {},
   "outputs": [
    {
     "name": "stdout",
     "output_type": "stream",
     "text": [
      "     1     0\n",
      "     2     4\n",
      "\n"
     ]
    }
   ],
   "source": [
    "matr = [ 1 0; 2 4 ]; \n",
    "disp(matr) "
   ]
  },
  {
   "cell_type": "markdown",
   "metadata": {},
   "source": [
    "Transposing "
   ]
  }
 ],
 "metadata": {
  "kernelspec": {
   "display_name": "MATLAB",
   "language": "matlab",
   "name": "imatlab"
  },
  "language_info": {
   "codemirror_mode": "octave",
   "file_extension": ".m",
   "mimetype": "text/x-matlab",
   "name": "matlab",
   "nbconvert_exporter": "imatlab._exporter.MatlabExporter",
   "pygments_lexer": "matlab",
   "version": "9.2.0.556344 (R2017a)"
  }
 },
 "nbformat": 4,
 "nbformat_minor": 2
}
